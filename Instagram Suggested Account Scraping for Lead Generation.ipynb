{
 "cells": [
  {
   "cell_type": "markdown",
   "id": "e7a46f65-494c-4fa9-bc96-53ede0222164",
   "metadata": {
    "tags": []
   },
   "source": [
    "# Library"
   ]
  },
  {
   "cell_type": "code",
   "execution_count": 25,
   "id": "9ee83ee0-44b8-4c3b-86a3-25fd85328308",
   "metadata": {
    "tags": []
   },
   "outputs": [],
   "source": [
    "import pandas as pd\n",
    "import numpy as np\n",
    "import json\n",
    "from tqdm import tqdm\n",
    "import time"
   ]
  },
  {
   "cell_type": "code",
   "execution_count": 28,
   "id": "0993db34-e4f7-45f8-959d-cd235c568d94",
   "metadata": {
    "tags": []
   },
   "outputs": [],
   "source": [
    "# Open the file in read mode ('r')\n",
    "with open('cookies.txt', 'r') as file:\n",
    "    cookies_text = file.read()\n",
    "\n",
    "# Now, evaluate the content to get the cookies dictionary\n",
    "cookies = eval(cookies_text)"
   ]
  },
  {
   "cell_type": "code",
   "execution_count": 29,
   "id": "e321e5d3-f673-4a86-925d-c609866ae668",
   "metadata": {
    "tags": []
   },
   "outputs": [],
   "source": [
    "with open('headers.txt', 'r') as file:\n",
    "    headers_text = file.read()\n",
    "\n",
    "# Now, evaluate the content to get the cookies dictionary\n",
    "headers = eval(headers_text)"
   ]
  },
  {
   "cell_type": "code",
   "execution_count": 59,
   "id": "447b4275-ab08-4f6c-b142-e37f955563fa",
   "metadata": {
    "tags": []
   },
   "outputs": [],
   "source": [
    "with open('params.txt', 'r') as file:\n",
    "    params_text = file.read()\n",
    "\n",
    "# Now, evaluate the content to get the cookies dictionary\n",
    "query_id = eval(params_text)"
   ]
  },
  {
   "cell_type": "code",
   "execution_count": 60,
   "id": "21b7f436-bdaf-4c74-9af5-79e1ce6eda1c",
   "metadata": {
    "tags": []
   },
   "outputs": [
    {
     "data": {
      "text/plain": [
       "'9957820854288654'"
      ]
     },
     "execution_count": 60,
     "metadata": {},
     "output_type": "execute_result"
    }
   ],
   "source": [
    "query_id['query_id']"
   ]
  },
  {
   "cell_type": "markdown",
   "id": "dbe3f245-19a2-484b-ae25-3abf7bf0aedb",
   "metadata": {},
   "source": [
    "# Read Base Account"
   ]
  },
  {
   "cell_type": "code",
   "execution_count": 30,
   "id": "aff90008-8db4-42c0-a7b7-600f675106de",
   "metadata": {
    "tags": []
   },
   "outputs": [
    {
     "data": {
      "text/html": [
       "<div>\n",
       "<style scoped>\n",
       "    .dataframe tbody tr th:only-of-type {\n",
       "        vertical-align: middle;\n",
       "    }\n",
       "\n",
       "    .dataframe tbody tr th {\n",
       "        vertical-align: top;\n",
       "    }\n",
       "\n",
       "    .dataframe thead th {\n",
       "        text-align: right;\n",
       "    }\n",
       "</style>\n",
       "<table border=\"1\" class=\"dataframe\">\n",
       "  <thead>\n",
       "    <tr style=\"text-align: right;\">\n",
       "      <th></th>\n",
       "      <th>username</th>\n",
       "    </tr>\n",
       "  </thead>\n",
       "  <tbody>\n",
       "    <tr>\n",
       "      <th>0</th>\n",
       "      <td>officialdonat_bahagia</td>\n",
       "    </tr>\n",
       "    <tr>\n",
       "      <th>1</th>\n",
       "      <td>sagara.homemade</td>\n",
       "    </tr>\n",
       "    <tr>\n",
       "      <th>2</th>\n",
       "      <td>dobul.donut</td>\n",
       "    </tr>\n",
       "    <tr>\n",
       "      <th>3</th>\n",
       "      <td>sera.treats</td>\n",
       "    </tr>\n",
       "    <tr>\n",
       "      <th>4</th>\n",
       "      <td>donusaurus</td>\n",
       "    </tr>\n",
       "  </tbody>\n",
       "</table>\n",
       "</div>"
      ],
      "text/plain": [
       "                username\n",
       "0  officialdonat_bahagia\n",
       "1        sagara.homemade\n",
       "2            dobul.donut\n",
       "3            sera.treats\n",
       "4             donusaurus"
      ]
     },
     "execution_count": 30,
     "metadata": {},
     "output_type": "execute_result"
    }
   ],
   "source": [
    "df_base_account = pd.read_csv('base_account.csv')\n",
    "df_base_account.head()"
   ]
  },
  {
   "cell_type": "markdown",
   "id": "be46796a-032f-4ce1-bb8e-83c9c7794f3e",
   "metadata": {},
   "source": [
    "# Finding Account Id"
   ]
  },
  {
   "cell_type": "code",
   "execution_count": 31,
   "id": "ba67a234-a4ad-490d-8b34-b7116c837a1a",
   "metadata": {
    "tags": []
   },
   "outputs": [
    {
     "name": "stdout",
     "output_type": "stream",
     "text": [
      "officialdonat_bahagia\n",
      "sagara.homemade\n",
      "dobul.donut\n",
      "sera.treats\n",
      "donusaurus\n",
      "thedimsumco\n",
      "dimsum.endut\n",
      "dimsumbenhil\n",
      "dapur.roja\n",
      "dimsum_mr.san\n"
     ]
    }
   ],
   "source": [
    "for user in df_base_account['username']:\n",
    "    print(user)"
   ]
  },
  {
   "cell_type": "code",
   "execution_count": 32,
   "id": "b4a137c4-eeb0-469b-a620-a98ee2506451",
   "metadata": {
    "tags": []
   },
   "outputs": [],
   "source": [
    "def finding_base_account_id(username, cookies, headers):\n",
    "    import requests\n",
    "    \n",
    "    cookies = cookies\n",
    "    \n",
    "    headers = headers\n",
    "    \n",
    "    params = {\n",
    "        'username': username,\n",
    "    }\n",
    "\n",
    "    response = requests.get(\n",
    "        'https://www.instagram.com/api/v1/users/web_profile_info/',\n",
    "        params=params,\n",
    "        cookies=cookies,\n",
    "        headers=headers,\n",
    "    )\n",
    "    \n",
    "    return json.loads(response.text)['data']['user']\n",
    "    # return response\n"
   ]
  },
  {
   "cell_type": "code",
   "execution_count": 42,
   "id": "a3b9df17-99f8-469b-bd5f-935ef378e8b2",
   "metadata": {
    "tags": []
   },
   "outputs": [
    {
     "data": {
      "text/plain": [
       "{'ai_agent_type': None,\n",
       " 'biography': 'DONAT BIKIN BAHAGIA | 70 VARIANT RASA | BEBAS PILIH | DIBUAT DARI HATI OLEH PENGRAJIN KEBAHAGIAAN 💕 FRESHLY MADE FOR U . \\nCEK LOKASI DLL DI LINK YA ⚘️',\n",
       " 'bio_links': [{'title': '',\n",
       "   'lynx_url': 'https://l.instagram.com/?u=http%3A%2F%2Fwww.donatbahagia.id%2F&e=AT1lGl_xObm99kZefMHqBkIqdNIuPlVBRO1_W0RPxAuMH4fkx4xBKXCvIWHcX0AiHt338eEmMnupcHfiH93hw9vUjW880QQyT1o8yd9m3t_EIQskTcF3RQ',\n",
       "   'url': 'http://www.donatbahagia.id',\n",
       "   'link_type': 'external'},\n",
       "  {'title': 'whatsapp dobamin dobah',\n",
       "   'lynx_url': 'https://l.instagram.com/?u=https%3A%2F%2Fwa.me%2Fmessage%2F2HND7WUWT4UCL1&e=AT12laLwSlJiVaimL0jN6Pp-BQrIEsx73_H-3DGYiIdB_aXHrOSSI3a2YZomlm3ac3ktV4tdcwLRia7dt6ZavMdoLd4oQCErP_r-vYFkgSmx8fhdz3BoMg',\n",
       "   'url': 'https://wa.me/message/2HND7WUWT4UCL1',\n",
       "   'link_type': 'external'}],\n",
       " 'fb_profile_biolink': None,\n",
       " 'biography_with_entities': {'raw_text': 'DONAT BIKIN BAHAGIA | 70 VARIANT RASA | BEBAS PILIH | DIBUAT DARI HATI OLEH PENGRAJIN KEBAHAGIAAN 💕 FRESHLY MADE FOR U . \\nCEK LOKASI DLL DI LINK YA ⚘️',\n",
       "  'entities': []},\n",
       " 'blocked_by_viewer': False,\n",
       " 'restricted_by_viewer': False,\n",
       " 'country_block': False,\n",
       " 'eimu_id': '108014257261594',\n",
       " 'external_url': 'http://www.donatbahagia.id/',\n",
       " 'external_url_linkshimmed': 'https://l.instagram.com/?u=http%3A%2F%2Fwww.donatbahagia.id%2F&e=AT1-Fs_crsaTyC4AWkO1whoeTzRdyLoYb83IYnueus4EGxDAJMrPUhP0-TI_Ql29cmSr6I2hdRVBBjbwWxJ2ZStylGCFOF2iSUGaIvNAoXIP3jkC7oaYVQ',\n",
       " 'edge_followed_by': {'count': 151125},\n",
       " 'fbid': '17841407282634518',\n",
       " 'followed_by_viewer': False,\n",
       " 'edge_follow': {'count': 0},\n",
       " 'follows_viewer': False,\n",
       " 'full_name': 'DONAT BAHAGIA',\n",
       " 'group_metadata': None,\n",
       " 'has_ar_effects': True,\n",
       " 'has_clips': True,\n",
       " 'has_guides': False,\n",
       " 'has_chaining': True,\n",
       " 'has_channel': False,\n",
       " 'has_blocked_viewer': False,\n",
       " 'highlight_reel_count': 13,\n",
       " 'has_requested_viewer': False,\n",
       " 'hide_like_and_view_counts': False,\n",
       " 'id': '7316146754',\n",
       " 'is_business_account': True,\n",
       " 'is_professional_account': True,\n",
       " 'is_supervision_enabled': False,\n",
       " 'is_guardian_of_viewer': False,\n",
       " 'is_supervised_by_viewer': False,\n",
       " 'is_supervised_user': False,\n",
       " 'is_embeds_disabled': False,\n",
       " 'is_joined_recently': False,\n",
       " 'guardian_id': None,\n",
       " 'business_address_json': '{\"city_name\": null, \"city_id\": null, \"latitude\": null, \"longitude\": null, \"street_address\": null, \"zip_code\": null}',\n",
       " 'business_contact_method': 'CALL',\n",
       " 'business_email': None,\n",
       " 'business_phone_number': None,\n",
       " 'business_category_name': 'None',\n",
       " 'overall_category_name': None,\n",
       " 'category_enum': 'FOOD_BEVERAGE',\n",
       " 'category_name': 'Food & beverage',\n",
       " 'is_private': False,\n",
       " 'is_verified': False,\n",
       " 'is_verified_by_mv4b': False,\n",
       " 'is_regulated_c18': False,\n",
       " 'edge_mutual_followed_by': {'count': 7,\n",
       "  'edges': [{'node': {'username': 'mayanda_mega_santoni'}},\n",
       "   {'node': {'username': 'vincentyas_'}},\n",
       "   {'node': {'username': 'rezamelisarozalina'}}]},\n",
       " 'pinned_channels_list_count': 0,\n",
       " 'profile_pic_url': 'https://scontent-lax3-2.cdninstagram.com/v/t51.2885-19/332756390_2272355986287558_4823834846341302417_n.jpg?stp=dst-jpg_s150x150&_nc_ht=scontent-lax3-2.cdninstagram.com&_nc_cat=106&_nc_ohc=rkLIigQSkzIAX8e2cPZ&edm=AOQ1c0wBAAAA&ccb=7-5&oh=00_AfCVNpcUCYcy4yjYI2WE9bhf4Z5OlKptD6z6Hrh_pbatsg&oe=65FBD0DA&_nc_sid=8b3546',\n",
       " 'profile_pic_url_hd': 'https://scontent-lax3-2.cdninstagram.com/v/t51.2885-19/332756390_2272355986287558_4823834846341302417_n.jpg?stp=dst-jpg_s320x320&_nc_ht=scontent-lax3-2.cdninstagram.com&_nc_cat=106&_nc_ohc=rkLIigQSkzIAX8e2cPZ&edm=AOQ1c0wBAAAA&ccb=7-5&oh=00_AfDgMUT5vE2BSaxi77Qzfpr2hjxG-WRvFNGg42hTvzxy6g&oe=65FBD0DA&_nc_sid=8b3546',\n",
       " 'requested_by_viewer': False,\n",
       " 'should_show_category': True,\n",
       " 'should_show_public_contacts': True,\n",
       " 'show_account_transparency_details': True,\n",
       " 'transparency_label': None,\n",
       " 'transparency_product': None,\n",
       " 'username': 'officialdonat_bahagia',\n",
       " 'connected_fb_page': None,\n",
       " 'pronouns': [],\n",
       " 'edge_owner_to_timeline_media': {'count': 1490,\n",
       "  'page_info': {'has_next_page': True, 'end_cursor': ''},\n",
       "  'edges': []}}"
      ]
     },
     "execution_count": 42,
     "metadata": {},
     "output_type": "execute_result"
    }
   ],
   "source": [
    "test = finding_base_account_id('officialdonat_bahagia', cookies, headers)\n",
    "test"
   ]
  },
  {
   "cell_type": "code",
   "execution_count": 48,
   "id": "aa4c6375-6f0a-4d64-a6ed-fc9ca905642f",
   "metadata": {
    "tags": []
   },
   "outputs": [
    {
     "name": "stderr",
     "output_type": "stream",
     "text": [
      "Processing users: 100%|█████████████████████████| 10/10 [00:35<00:00,  3.51s/it]\n"
     ]
    }
   ],
   "source": [
    "from tqdm import tqdm\n",
    "import time\n",
    "\n",
    "base_account_list = []\n",
    "\n",
    "base_account_col = ['id'\n",
    "                    , 'username'\n",
    "                    , 'full_name'\n",
    "                    , 'biography_desc'\n",
    "                    , 'category_name'\n",
    "                    , 'followers'\n",
    "                    , 'external_url'\n",
    "                    , 'business_email'\n",
    "                    , 'business_phone_number'        \n",
    "                   ]\n",
    "\n",
    "for user in tqdm(df_base_account['username'], desc=\"Processing users\"):\n",
    "    try:\n",
    "        temp = finding_base_account_id(user, cookies, headers)\n",
    "        base_account_list.append(\n",
    "            [\n",
    "                temp['id']\n",
    "                , temp['username']\n",
    "                , temp['full_name']\n",
    "                , temp['biography_with_entities']['raw_text']\n",
    "                , temp['category_name']\n",
    "                , temp['edge_followed_by']['count']\n",
    "                , temp['external_url']\n",
    "                , temp['business_email']\n",
    "                , temp['business_phone_number']\n",
    "\n",
    "            ])\n",
    "    \n",
    "    except Exception as e:\n",
    "        print(f\"Error processing user {user}: {e}\")\n",
    "        continue\n",
    "        \n",
    "    time.sleep(3)\n"
   ]
  },
  {
   "cell_type": "code",
   "execution_count": 49,
   "id": "da52ef5d-bfe4-44e3-8543-a76e5280edf8",
   "metadata": {
    "tags": []
   },
   "outputs": [
    {
     "data": {
      "text/html": [
       "<div>\n",
       "<style scoped>\n",
       "    .dataframe tbody tr th:only-of-type {\n",
       "        vertical-align: middle;\n",
       "    }\n",
       "\n",
       "    .dataframe tbody tr th {\n",
       "        vertical-align: top;\n",
       "    }\n",
       "\n",
       "    .dataframe thead th {\n",
       "        text-align: right;\n",
       "    }\n",
       "</style>\n",
       "<table border=\"1\" class=\"dataframe\">\n",
       "  <thead>\n",
       "    <tr style=\"text-align: right;\">\n",
       "      <th></th>\n",
       "      <th>id</th>\n",
       "      <th>username</th>\n",
       "      <th>full_name</th>\n",
       "      <th>biography_desc</th>\n",
       "      <th>category_name</th>\n",
       "      <th>followers</th>\n",
       "      <th>external_url</th>\n",
       "      <th>business_email</th>\n",
       "      <th>business_phone_number</th>\n",
       "    </tr>\n",
       "  </thead>\n",
       "  <tbody>\n",
       "    <tr>\n",
       "      <th>0</th>\n",
       "      <td>7316146754</td>\n",
       "      <td>officialdonat_bahagia</td>\n",
       "      <td>DONAT BAHAGIA</td>\n",
       "      <td>DONAT BIKIN BAHAGIA | 70 VARIANT RASA | BEBAS ...</td>\n",
       "      <td>Food &amp; beverage</td>\n",
       "      <td>151124</td>\n",
       "      <td>http://www.donatbahagia.id/</td>\n",
       "      <td>None</td>\n",
       "      <td>None</td>\n",
       "    </tr>\n",
       "    <tr>\n",
       "      <th>1</th>\n",
       "      <td>36403582263</td>\n",
       "      <td>sagara.homemade</td>\n",
       "      <td>Donat 🍩 Choco Cheese Strip🍫🧀</td>\n",
       "      <td>❌Temporarily Closed❌\\nExclusively made for pre...</td>\n",
       "      <td>Food &amp; beverage</td>\n",
       "      <td>27</td>\n",
       "      <td>None</td>\n",
       "      <td>None</td>\n",
       "      <td>None</td>\n",
       "    </tr>\n",
       "    <tr>\n",
       "      <th>2</th>\n",
       "      <td>49054349451</td>\n",
       "      <td>dobul.donut</td>\n",
       "      <td>Donat Gembul</td>\n",
       "      <td>Donat lezat 🍩 dari PT. Trinojaya Alenson 🏘\\nPr...</td>\n",
       "      <td>Food &amp; beverage</td>\n",
       "      <td>165</td>\n",
       "      <td>None</td>\n",
       "      <td>None</td>\n",
       "      <td>None</td>\n",
       "    </tr>\n",
       "    <tr>\n",
       "      <th>3</th>\n",
       "      <td>5877763021</td>\n",
       "      <td>sera.treats</td>\n",
       "      <td>Hampers Lebaran Rancaekek</td>\n",
       "      <td>📍 Rancaekek, Kab Bandung\\n• Tidak Ready Stock\\...</td>\n",
       "      <td>Food &amp; beverage</td>\n",
       "      <td>456</td>\n",
       "      <td>https://wa.me/message/6GVZWFEFIIIHB1</td>\n",
       "      <td>None</td>\n",
       "      <td>None</td>\n",
       "    </tr>\n",
       "    <tr>\n",
       "      <th>4</th>\n",
       "      <td>53459835779</td>\n",
       "      <td>donusaurus</td>\n",
       "      <td>Donat Kentang Pontianak</td>\n",
       "      <td>Donat Kentang Premium\\n🏡 Pontianak (Serdam, Ko...</td>\n",
       "      <td>None</td>\n",
       "      <td>765</td>\n",
       "      <td>https://shopee.co.id/universal-link/now-food/s...</td>\n",
       "      <td>None</td>\n",
       "      <td>None</td>\n",
       "    </tr>\n",
       "  </tbody>\n",
       "</table>\n",
       "</div>"
      ],
      "text/plain": [
       "            id               username                     full_name  \\\n",
       "0   7316146754  officialdonat_bahagia                 DONAT BAHAGIA   \n",
       "1  36403582263        sagara.homemade  Donat 🍩 Choco Cheese Strip🍫🧀   \n",
       "2  49054349451            dobul.donut                  Donat Gembul   \n",
       "3   5877763021            sera.treats     Hampers Lebaran Rancaekek   \n",
       "4  53459835779             donusaurus       Donat Kentang Pontianak   \n",
       "\n",
       "                                      biography_desc    category_name  \\\n",
       "0  DONAT BIKIN BAHAGIA | 70 VARIANT RASA | BEBAS ...  Food & beverage   \n",
       "1  ❌Temporarily Closed❌\\nExclusively made for pre...  Food & beverage   \n",
       "2  Donat lezat 🍩 dari PT. Trinojaya Alenson 🏘\\nPr...  Food & beverage   \n",
       "3  📍 Rancaekek, Kab Bandung\\n• Tidak Ready Stock\\...  Food & beverage   \n",
       "4  Donat Kentang Premium\\n🏡 Pontianak (Serdam, Ko...             None   \n",
       "\n",
       "   followers                                       external_url  \\\n",
       "0     151124                        http://www.donatbahagia.id/   \n",
       "1         27                                               None   \n",
       "2        165                                               None   \n",
       "3        456               https://wa.me/message/6GVZWFEFIIIHB1   \n",
       "4        765  https://shopee.co.id/universal-link/now-food/s...   \n",
       "\n",
       "  business_email business_phone_number  \n",
       "0           None                  None  \n",
       "1           None                  None  \n",
       "2           None                  None  \n",
       "3           None                  None  \n",
       "4           None                  None  "
      ]
     },
     "execution_count": 49,
     "metadata": {},
     "output_type": "execute_result"
    }
   ],
   "source": [
    "df_base_account_list = pd.DataFrame(base_account_list, columns = base_account_col)\n",
    "df_base_account_list.head()"
   ]
  },
  {
   "cell_type": "markdown",
   "id": "927ad03a-a5b2-4ff3-902a-c635761cea7b",
   "metadata": {},
   "source": [
    "# Fetching Suggested Account"
   ]
  },
  {
   "cell_type": "code",
   "execution_count": 61,
   "id": "4395fd15-767a-4523-84a7-a4b36008484c",
   "metadata": {
    "tags": []
   },
   "outputs": [],
   "source": [
    "def fecthing_suggested_account(userid, cookies, headers, query_id):\n",
    "    import requests\n",
    "\n",
    "    cookies = cookies\n",
    "\n",
    "    headers = headers\n",
    "\n",
    "    params = {\n",
    "        'user_id': str(userid),\n",
    "        'include_chaining': 'false',\n",
    "        'include_reel': 'true',\n",
    "        'include_suggested_users': 'false',\n",
    "        'include_logged_out_extras': 'false',\n",
    "        'include_live_status': 'false',\n",
    "        'include_highlight_reels': 'true',\n",
    "    }\n",
    "    \n",
    "    params['query_id'] = query_id['query_id']\n",
    "\n",
    "    response = requests.get('https://www.instagram.com/graphql/query/', params=params, cookies=cookies, headers=headers)\n",
    "    \n",
    "    # return json.loads(response.text)['data']['user']['edge_chaining']['edges'][0]['node']['username']\n",
    "\n",
    "    return json.loads(response.text)['data']['user']['edge_chaining']['edges']\n",
    "    "
   ]
  },
  {
   "cell_type": "code",
   "execution_count": 65,
   "id": "213de6e9-cdce-4b05-8f14-47920e13ced9",
   "metadata": {
    "tags": []
   },
   "outputs": [
    {
     "name": "stderr",
     "output_type": "stream",
     "text": [
      "Processing base accounts:   0%|                          | 0/10 [00:00<?, ?it/s]\n",
      "Processing suggested accounts: 100%|████████| 40/40 [00:00<00:00, 336216.75it/s]\u001b[A\n",
      "Processing base accounts:  10%|█▊                | 1/10 [00:01<00:09,  1.08s/it]\n",
      "Processing suggested accounts: 100%|████████| 28/28 [00:00<00:00, 222425.21it/s]\u001b[A\n",
      "Processing base accounts:  20%|███▌              | 2/10 [00:01<00:07,  1.08it/s]\n",
      "Processing suggested accounts: 100%|█████████| 28/28 [00:00<00:00, 74048.24it/s]\u001b[A\n",
      "Processing base accounts:  30%|█████▍            | 3/10 [00:02<00:05,  1.20it/s]\n",
      "Processing suggested accounts: 100%|█████████| 30/30 [00:00<00:00, 87746.95it/s]\u001b[A\n",
      "Processing base accounts:  40%|███████▏          | 4/10 [00:03<00:05,  1.15it/s]\n",
      "Processing suggested accounts: 100%|████████| 67/67 [00:00<00:00, 380783.70it/s]\u001b[A\n",
      "Processing base accounts:  50%|█████████         | 5/10 [00:04<00:04,  1.08it/s]\n",
      "Processing suggested accounts: 100%|████████| 26/26 [00:00<00:00, 218540.89it/s]\u001b[A\n",
      "Processing base accounts:  60%|██████████▊       | 6/10 [00:05<00:03,  1.13it/s]\n",
      "Processing suggested accounts: 100%|████████| 80/80 [00:00<00:00, 194631.28it/s]\u001b[A\n",
      "Processing base accounts:  70%|████████████▌     | 7/10 [00:07<00:04,  1.41s/it]\n",
      "Processing suggested accounts: 100%|████████| 32/32 [00:00<00:00, 206488.81it/s]\u001b[A\n",
      "Processing base accounts:  80%|██████████████▍   | 8/10 [00:08<00:02,  1.25s/it]\n",
      "Processing suggested accounts: 100%|████████| 33/33 [00:00<00:00, 193043.28it/s]\u001b[A\n",
      "Processing base accounts:  90%|████████████████▏ | 9/10 [00:10<00:01,  1.50s/it]\n",
      "Processing suggested accounts: 100%|████████| 39/39 [00:00<00:00, 125347.02it/s]\u001b[A\n",
      "Processing base accounts: 100%|█████████████████| 10/10 [00:12<00:00,  1.21s/it]\n"
     ]
    }
   ],
   "source": [
    "from tqdm import tqdm\n",
    "import time\n",
    "\n",
    "suggested_username_list = []\n",
    "\n",
    "for user in tqdm(df_base_account_list['id'], desc = 'Processing base accounts'):\n",
    "    temp = fecthing_suggested_account(user, cookies, headers, params)\n",
    "    \n",
    "    for i in tqdm(range(len(temp)), desc = 'Processing suggested accounts'):\n",
    "        try:\n",
    "            suggested_username_list.append(temp[i]['node']['username'])\n",
    "            \n",
    "        except Exception as e:\n",
    "            print(f\"Error processing user {i}: {e}\")\n",
    "            continue\n"
   ]
  },
  {
   "cell_type": "code",
   "execution_count": 69,
   "id": "c32ded14-cfb1-4a0f-ba4d-9a0f07c6c337",
   "metadata": {
    "tags": []
   },
   "outputs": [
    {
     "data": {
      "text/plain": [
       "['madalangu.bakehouse',\n",
       " 'fudgybro',\n",
       " 'theparlorhills',\n",
       " 'bodabarn.bdg',\n",
       " 'foursis.space',\n",
       " 'sincerehomemade',\n",
       " 'brunobakehouse',\n",
       " '150coffeegarden',\n",
       " 'rinpurin.id',\n",
       " 'soesjendralbdg']"
      ]
     },
     "execution_count": 69,
     "metadata": {},
     "output_type": "execute_result"
    }
   ],
   "source": [
    "suggested_username_list[:10]"
   ]
  },
  {
   "cell_type": "markdown",
   "id": "1bad1db4-dc06-4ee4-b084-f978fdcd6082",
   "metadata": {},
   "source": [
    "# Getting All Details from Suggested Accounts"
   ]
  },
  {
   "cell_type": "code",
   "execution_count": 71,
   "id": "9202f1f6-0544-4590-9932-2800e5859d10",
   "metadata": {
    "tags": []
   },
   "outputs": [
    {
     "data": {
      "text/plain": [
       "{'ai_agent_type': None,\n",
       " 'biography': 'Made by Soulful Artisan Young Baker\\n• 1st #CromBomb in Bandung\\n• 11.00-23.00 | During Ramadan\\n• Halal-Certified & Fresh-Baked\\n• Menu & Location 👇',\n",
       " 'bio_links': [{'title': '',\n",
       "   'lynx_url': 'https://l.instagram.com/?u=http%3A%2F%2Flinktr.ee%2Fmadalangu.bakehouse%2F&e=AT1fX79KzW4r7N9Ob9CkKXj8j5bY95EzUVKA8yIIn1lR5AwKfyE3fxE86Z4YLOoxnq7-5dHLiNGGJJXfIsvjAUDMOxfAcboQ0dmQJIj9KLTCfjvXN0YKAw',\n",
       "   'url': 'http://linktr.ee/madalangu.bakehouse/',\n",
       "   'link_type': 'external'}],\n",
       " 'fb_profile_biolink': None,\n",
       " 'biography_with_entities': {'raw_text': 'Made by Soulful Artisan Young Baker\\n• 1st #CromBomb in Bandung\\n• 11.00-23.00 | During Ramadan\\n• Halal-Certified & Fresh-Baked\\n• Menu & Location 👇',\n",
       "  'entities': [{'user': None, 'hashtag': {'name': 'crombomb'}}]},\n",
       " 'blocked_by_viewer': False,\n",
       " 'restricted_by_viewer': False,\n",
       " 'country_block': False,\n",
       " 'eimu_id': '17842211081251460',\n",
       " 'external_url': 'http://linktr.ee/madalangu.bakehouse/',\n",
       " 'external_url_linkshimmed': 'https://l.instagram.com/?u=http%3A%2F%2Flinktr.ee%2Fmadalangu.bakehouse%2F&e=AT2bakJk-CsqSzpVpq7EbDRjYx282iEAPD1GBsUUNxeGdLfcWx0cqz0jjTx1OvGrILC8-McMFEhPzSaBPfCBzyz_ysJYSYQCR_8p-6DXKPNx7ERl3SwgnQ',\n",
       " 'edge_followed_by': {'count': 21660},\n",
       " 'fbid': '17841437543779064',\n",
       " 'followed_by_viewer': False,\n",
       " 'edge_follow': {'count': 32},\n",
       " 'follows_viewer': False,\n",
       " 'full_name': 'CromBomb & Pastry Bandung',\n",
       " 'group_metadata': None,\n",
       " 'has_ar_effects': False,\n",
       " 'has_clips': True,\n",
       " 'has_guides': False,\n",
       " 'has_chaining': True,\n",
       " 'has_channel': False,\n",
       " 'has_blocked_viewer': False,\n",
       " 'highlight_reel_count': 21,\n",
       " 'has_requested_viewer': False,\n",
       " 'hide_like_and_view_counts': False,\n",
       " 'id': '37512515459',\n",
       " 'is_business_account': True,\n",
       " 'is_professional_account': True,\n",
       " 'is_supervision_enabled': False,\n",
       " 'is_guardian_of_viewer': False,\n",
       " 'is_supervised_by_viewer': False,\n",
       " 'is_supervised_user': False,\n",
       " 'is_embeds_disabled': False,\n",
       " 'is_joined_recently': False,\n",
       " 'guardian_id': None,\n",
       " 'business_address_json': '{\"city_name\": \"Bandung\", \"city_id\": 103847742987074, \"latitude\": -6.89688, \"longitude\": 107.61487, \"street_address\": \"Jl. Pager Gunung No.3\", \"zip_code\": \"40132\"}',\n",
       " 'business_contact_method': 'UNKNOWN',\n",
       " 'business_email': None,\n",
       " 'business_phone_number': None,\n",
       " 'business_category_name': 'None',\n",
       " 'overall_category_name': None,\n",
       " 'category_enum': None,\n",
       " 'category_name': 'Dessert Shop',\n",
       " 'is_private': False,\n",
       " 'is_verified': False,\n",
       " 'is_verified_by_mv4b': False,\n",
       " 'is_regulated_c18': False,\n",
       " 'edge_mutual_followed_by': {'count': 1,\n",
       "  'edges': [{'node': {'username': 'marta.levina'}}]},\n",
       " 'pinned_channels_list_count': 0,\n",
       " 'profile_pic_url': 'https://scontent-lax3-2.cdninstagram.com/v/t51.2885-19/350436452_113142625129129_6503684484327512168_n.jpg?stp=dst-jpg_s150x150&_nc_ht=scontent-lax3-2.cdninstagram.com&_nc_cat=101&_nc_ohc=K7Qg6GqSPSAAX_P0wkk&edm=AOQ1c0wBAAAA&ccb=7-5&oh=00_AfDELRRB9Es5SXnWrzcxOyY5fR3czqHm6Z73yFzVHIGmGA&oe=65FB3E76&_nc_sid=8b3546',\n",
       " 'profile_pic_url_hd': 'https://scontent-lax3-2.cdninstagram.com/v/t51.2885-19/350436452_113142625129129_6503684484327512168_n.jpg?stp=dst-jpg_s320x320&_nc_ht=scontent-lax3-2.cdninstagram.com&_nc_cat=101&_nc_ohc=K7Qg6GqSPSAAX_P0wkk&edm=AOQ1c0wBAAAA&ccb=7-5&oh=00_AfC-rShTTFG07S-fN1FE5GPz_IUdZAFcJmzN_5rXy7HWNg&oe=65FB3E76&_nc_sid=8b3546',\n",
       " 'requested_by_viewer': False,\n",
       " 'should_show_category': False,\n",
       " 'should_show_public_contacts': True,\n",
       " 'show_account_transparency_details': True,\n",
       " 'transparency_label': None,\n",
       " 'transparency_product': None,\n",
       " 'username': 'madalangu.bakehouse',\n",
       " 'connected_fb_page': None,\n",
       " 'pronouns': [],\n",
       " 'edge_owner_to_timeline_media': {'count': 256,\n",
       "  'page_info': {'has_next_page': True, 'end_cursor': ''},\n",
       "  'edges': []}}"
      ]
     },
     "execution_count": 71,
     "metadata": {},
     "output_type": "execute_result"
    }
   ],
   "source": [
    "finding_base_account_id(suggested_username_list[0], cookies, headers)"
   ]
  },
  {
   "cell_type": "code",
   "execution_count": 72,
   "id": "cce9e866-cf4c-47c8-98cf-7b4991597139",
   "metadata": {
    "tags": []
   },
   "outputs": [
    {
     "name": "stderr",
     "output_type": "stream",
     "text": [
      "Processing items: 100%|███████████████████████| 403/403 [40:29<00:00,  6.03s/it]\n"
     ]
    }
   ],
   "source": [
    "suggested_account_list = []\n",
    "\n",
    "suggested_account_col = ['id'\n",
    "                    , 'username'\n",
    "                    , 'full_name'\n",
    "                    , 'biography_desc'\n",
    "                    , 'category_name'\n",
    "                    , 'followers'\n",
    "                    , 'external_url'\n",
    "                    , 'business_email'\n",
    "                    , 'business_phone_number'        \n",
    "                   ]\n",
    "\n",
    "# for user in suggested_username_list:\n",
    "for i in tqdm(range(len(suggested_username_list)), desc=\"Processing items\"):\n",
    "    try:\n",
    "        temp = finding_base_account_id(suggested_username_list[i], cookies, headers)\n",
    "        \n",
    "        suggested_account_list.append(\n",
    "            [\n",
    "                temp['id']\n",
    "                , temp['username']\n",
    "                , temp['full_name']\n",
    "                , temp['biography_with_entities']['raw_text']\n",
    "                , temp['category_name']\n",
    "                , temp['edge_followed_by']['count']\n",
    "                , temp['external_url']\n",
    "                , temp['business_email']\n",
    "                , temp['business_phone_number']\n",
    "\n",
    "            ])\n",
    "        \n",
    "        if len(suggested_account_list)%50 == 0:\n",
    "            time.sleep(30)\n",
    "        else:\n",
    "            time.sleep(5)\n",
    "        \n",
    "    except:\n",
    "        continue\n"
   ]
  },
  {
   "cell_type": "code",
   "execution_count": 73,
   "id": "4809a122-8c31-4cf0-bfb2-e7927503ce5a",
   "metadata": {
    "tags": []
   },
   "outputs": [
    {
     "data": {
      "text/html": [
       "<div>\n",
       "<style scoped>\n",
       "    .dataframe tbody tr th:only-of-type {\n",
       "        vertical-align: middle;\n",
       "    }\n",
       "\n",
       "    .dataframe tbody tr th {\n",
       "        vertical-align: top;\n",
       "    }\n",
       "\n",
       "    .dataframe thead th {\n",
       "        text-align: right;\n",
       "    }\n",
       "</style>\n",
       "<table border=\"1\" class=\"dataframe\">\n",
       "  <thead>\n",
       "    <tr style=\"text-align: right;\">\n",
       "      <th></th>\n",
       "      <th>id</th>\n",
       "      <th>username</th>\n",
       "      <th>full_name</th>\n",
       "      <th>biography_desc</th>\n",
       "      <th>category_name</th>\n",
       "      <th>followers</th>\n",
       "      <th>external_url</th>\n",
       "      <th>business_email</th>\n",
       "      <th>business_phone_number</th>\n",
       "    </tr>\n",
       "  </thead>\n",
       "  <tbody>\n",
       "    <tr>\n",
       "      <th>0</th>\n",
       "      <td>37512515459</td>\n",
       "      <td>madalangu.bakehouse</td>\n",
       "      <td>CromBomb &amp; Pastry Bandung</td>\n",
       "      <td>Made by Soulful Artisan Young Baker\\n• 1st #Cr...</td>\n",
       "      <td>Dessert Shop</td>\n",
       "      <td>21660</td>\n",
       "      <td>http://linktr.ee/madalangu.bakehouse/</td>\n",
       "      <td>None</td>\n",
       "      <td>None</td>\n",
       "    </tr>\n",
       "    <tr>\n",
       "      <th>1</th>\n",
       "      <td>8619223614</td>\n",
       "      <td>fudgybro</td>\n",
       "      <td>FUDGYBRO! BROWNIES 🇲🇨</td>\n",
       "      <td>FUDGIEST &amp; TASTIEST BRONIE YOU'LL EVER TASTE\\n...</td>\n",
       "      <td>Food &amp; beverage</td>\n",
       "      <td>76697</td>\n",
       "      <td>https://linktr.ee/fudgybro</td>\n",
       "      <td>None</td>\n",
       "      <td>None</td>\n",
       "    </tr>\n",
       "    <tr>\n",
       "      <th>2</th>\n",
       "      <td>2162753622</td>\n",
       "      <td>theparlorhills</td>\n",
       "      <td>The Parlor Hills Bandung</td>\n",
       "      <td>RAMADHAN OPEN HOUR✨\\nCAFE :\\nSen-Jum : 12.00 -...</td>\n",
       "      <td>Recreation Spot</td>\n",
       "      <td>54671</td>\n",
       "      <td>https://s.id/linkinformasitheparlorhills</td>\n",
       "      <td>None</td>\n",
       "      <td>None</td>\n",
       "    </tr>\n",
       "    <tr>\n",
       "      <th>3</th>\n",
       "      <td>50256073795</td>\n",
       "      <td>bodabarn.bdg</td>\n",
       "      <td>Restaurant || Event &amp; Wedding Venue Bandung</td>\n",
       "      <td>Weekdays  12.00-20.00\\nWeekends 12.00-20.00\\nS...</td>\n",
       "      <td>Restaurant</td>\n",
       "      <td>14241</td>\n",
       "      <td>https://linktr.ee/bodabarndeprovence</td>\n",
       "      <td>None</td>\n",
       "      <td>None</td>\n",
       "    </tr>\n",
       "    <tr>\n",
       "      <th>4</th>\n",
       "      <td>11161646368</td>\n",
       "      <td>foursis.space</td>\n",
       "      <td>FOURSIS Cafe &amp; Space</td>\n",
       "      <td>Sip, spark, and settle.\\n📍Jalan Dipatikukur No...</td>\n",
       "      <td>Cafe</td>\n",
       "      <td>4564</td>\n",
       "      <td>https://drive.google.com/drive/u/6/folders/1vz...</td>\n",
       "      <td>None</td>\n",
       "      <td>None</td>\n",
       "    </tr>\n",
       "  </tbody>\n",
       "</table>\n",
       "</div>"
      ],
      "text/plain": [
       "            id             username  \\\n",
       "0  37512515459  madalangu.bakehouse   \n",
       "1   8619223614             fudgybro   \n",
       "2   2162753622       theparlorhills   \n",
       "3  50256073795         bodabarn.bdg   \n",
       "4  11161646368        foursis.space   \n",
       "\n",
       "                                     full_name  \\\n",
       "0                    CromBomb & Pastry Bandung   \n",
       "1                        FUDGYBRO! BROWNIES 🇲🇨   \n",
       "2                     The Parlor Hills Bandung   \n",
       "3  Restaurant || Event & Wedding Venue Bandung   \n",
       "4                         FOURSIS Cafe & Space   \n",
       "\n",
       "                                      biography_desc    category_name  \\\n",
       "0  Made by Soulful Artisan Young Baker\\n• 1st #Cr...     Dessert Shop   \n",
       "1  FUDGIEST & TASTIEST BRONIE YOU'LL EVER TASTE\\n...  Food & beverage   \n",
       "2  RAMADHAN OPEN HOUR✨\\nCAFE :\\nSen-Jum : 12.00 -...  Recreation Spot   \n",
       "3  Weekdays  12.00-20.00\\nWeekends 12.00-20.00\\nS...       Restaurant   \n",
       "4  Sip, spark, and settle.\\n📍Jalan Dipatikukur No...             Cafe   \n",
       "\n",
       "   followers                                       external_url  \\\n",
       "0      21660              http://linktr.ee/madalangu.bakehouse/   \n",
       "1      76697                         https://linktr.ee/fudgybro   \n",
       "2      54671           https://s.id/linkinformasitheparlorhills   \n",
       "3      14241               https://linktr.ee/bodabarndeprovence   \n",
       "4       4564  https://drive.google.com/drive/u/6/folders/1vz...   \n",
       "\n",
       "  business_email business_phone_number  \n",
       "0           None                  None  \n",
       "1           None                  None  \n",
       "2           None                  None  \n",
       "3           None                  None  \n",
       "4           None                  None  "
      ]
     },
     "execution_count": 73,
     "metadata": {},
     "output_type": "execute_result"
    }
   ],
   "source": [
    "df_suggested_account_list = pd.DataFrame(suggested_account_list, columns = suggested_account_col)\n",
    "df_suggested_account_list.head()"
   ]
  },
  {
   "cell_type": "code",
   "execution_count": 74,
   "id": "0b06376e-c0f6-4bc9-bcbe-a01db7bc6a5b",
   "metadata": {
    "tags": []
   },
   "outputs": [
    {
     "name": "stdout",
     "output_type": "stream",
     "text": [
      "<class 'pandas.core.frame.DataFrame'>\n",
      "RangeIndex: 403 entries, 0 to 402\n",
      "Data columns (total 9 columns):\n",
      " #   Column                 Non-Null Count  Dtype \n",
      "---  ------                 --------------  ----- \n",
      " 0   id                     403 non-null    object\n",
      " 1   username               403 non-null    object\n",
      " 2   full_name              403 non-null    object\n",
      " 3   biography_desc         403 non-null    object\n",
      " 4   category_name          323 non-null    object\n",
      " 5   followers              403 non-null    int64 \n",
      " 6   external_url           268 non-null    object\n",
      " 7   business_email         0 non-null      object\n",
      " 8   business_phone_number  0 non-null      object\n",
      "dtypes: int64(1), object(8)\n",
      "memory usage: 28.5+ KB\n"
     ]
    }
   ],
   "source": [
    "df_suggested_account_list.info()"
   ]
  }
 ],
 "metadata": {
  "kernelspec": {
   "display_name": "Python 3 (ipykernel)",
   "language": "python",
   "name": "python3"
  },
  "language_info": {
   "codemirror_mode": {
    "name": "ipython",
    "version": 3
   },
   "file_extension": ".py",
   "mimetype": "text/x-python",
   "name": "python",
   "nbconvert_exporter": "python",
   "pygments_lexer": "ipython3",
   "version": "3.11.4"
  }
 },
 "nbformat": 4,
 "nbformat_minor": 5
}
