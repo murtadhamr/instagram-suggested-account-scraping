{
 "cells": [
  {
   "cell_type": "markdown",
   "id": "e7a46f65-494c-4fa9-bc96-53ede0222164",
   "metadata": {
    "jp-MarkdownHeadingCollapsed": true,
    "tags": []
   },
   "source": [
    "# Library"
   ]
  },
  {
   "cell_type": "code",
   "execution_count": 177,
   "id": "9ee83ee0-44b8-4c3b-86a3-25fd85328308",
   "metadata": {
    "tags": []
   },
   "outputs": [],
   "source": [
    "import pandas as pd\n",
    "import numpy as np\n",
    "import json\n",
    "from tqdm import tqdm\n",
    "import time"
   ]
  },
  {
   "cell_type": "code",
   "execution_count": 178,
   "id": "0993db34-e4f7-45f8-959d-cd235c568d94",
   "metadata": {
    "tags": []
   },
   "outputs": [],
   "source": [
    "# Open the file in read mode ('r')\n",
    "file_path = 'cookies.txt'  # Update with your file path if it's in a different location\n",
    "cookies = {}\n",
    "\n",
    "with open(file_path, 'r') as file:\n",
    "    # Read and parse each line as key-value pair\n",
    "    for line in file:\n",
    "        key, value = line.strip().split(': ')\n",
    "        # Remove surrounding quotes from the value\n",
    "        value = value.strip('\"')\n",
    "        # Add key-value pair to the dictionary\n",
    "        cookies[key] = value\n",
    "\n",
    "# cookies"
   ]
  },
  {
   "cell_type": "code",
   "execution_count": 179,
   "id": "d05fb7d4-5ff8-4882-bc44-e2571f42a575",
   "metadata": {
    "tags": []
   },
   "outputs": [],
   "source": [
    "# Open the file in read mode ('r')\n",
    "file_path = 'headers.txt'  # Update with your file path if it's in a different location\n",
    "headers = {}\n",
    "\n",
    "with open(file_path, 'r') as file:\n",
    "    # Read and parse each line as key-value pair\n",
    "    for line in file:\n",
    "        key, value = line.strip().split(': ')\n",
    "        # Remove surrounding quotes from the value\n",
    "        value = value.strip('\"')\n",
    "        # Add key-value pair to the dictionary\n",
    "        headers[key] = value\n",
    "\n",
    "# headers"
   ]
  },
  {
   "cell_type": "markdown",
   "id": "dbe3f245-19a2-484b-ae25-3abf7bf0aedb",
   "metadata": {},
   "source": [
    "# Read Base Account"
   ]
  },
  {
   "cell_type": "code",
   "execution_count": 180,
   "id": "aff90008-8db4-42c0-a7b7-600f675106de",
   "metadata": {
    "tags": []
   },
   "outputs": [
    {
     "data": {
      "text/html": [
       "<div>\n",
       "<style scoped>\n",
       "    .dataframe tbody tr th:only-of-type {\n",
       "        vertical-align: middle;\n",
       "    }\n",
       "\n",
       "    .dataframe tbody tr th {\n",
       "        vertical-align: top;\n",
       "    }\n",
       "\n",
       "    .dataframe thead th {\n",
       "        text-align: right;\n",
       "    }\n",
       "</style>\n",
       "<table border=\"1\" class=\"dataframe\">\n",
       "  <thead>\n",
       "    <tr style=\"text-align: right;\">\n",
       "      <th></th>\n",
       "      <th>username</th>\n",
       "    </tr>\n",
       "  </thead>\n",
       "  <tbody>\n",
       "    <tr>\n",
       "      <th>0</th>\n",
       "      <td>officialdonat_bahagia</td>\n",
       "    </tr>\n",
       "    <tr>\n",
       "      <th>1</th>\n",
       "      <td>sagara.homemade</td>\n",
       "    </tr>\n",
       "    <tr>\n",
       "      <th>2</th>\n",
       "      <td>dobul.donut</td>\n",
       "    </tr>\n",
       "    <tr>\n",
       "      <th>3</th>\n",
       "      <td>sera.treats</td>\n",
       "    </tr>\n",
       "    <tr>\n",
       "      <th>4</th>\n",
       "      <td>donusaurus</td>\n",
       "    </tr>\n",
       "  </tbody>\n",
       "</table>\n",
       "</div>"
      ],
      "text/plain": [
       "                username\n",
       "0  officialdonat_bahagia\n",
       "1        sagara.homemade\n",
       "2            dobul.donut\n",
       "3            sera.treats\n",
       "4             donusaurus"
      ]
     },
     "execution_count": 180,
     "metadata": {},
     "output_type": "execute_result"
    }
   ],
   "source": [
    "df_base_account = pd.read_csv('base_account.csv')\n",
    "df_base_account.head()"
   ]
  },
  {
   "cell_type": "markdown",
   "id": "be46796a-032f-4ce1-bb8e-83c9c7794f3e",
   "metadata": {},
   "source": [
    "# Finding Account Id"
   ]
  },
  {
   "cell_type": "code",
   "execution_count": 181,
   "id": "ba67a234-a4ad-490d-8b34-b7116c837a1a",
   "metadata": {
    "tags": []
   },
   "outputs": [
    {
     "name": "stdout",
     "output_type": "stream",
     "text": [
      "officialdonat_bahagia\n",
      "sagara.homemade\n",
      "dobul.donut\n",
      "sera.treats\n",
      "donusaurus\n",
      "thedimsumco\n",
      "dimsum.endut\n",
      "dimsumbenhil\n",
      "dapur.roja\n",
      "dimsum_mr.san\n"
     ]
    }
   ],
   "source": [
    "for user in df_base_account['username']:\n",
    "    print(user)"
   ]
  },
  {
   "cell_type": "code",
   "execution_count": 188,
   "id": "b4a137c4-eeb0-469b-a620-a98ee2506451",
   "metadata": {
    "tags": []
   },
   "outputs": [],
   "source": [
    "def finding_base_account_id(username):\n",
    "    import requests\n",
    "\n",
    "    cookies = {\n",
    "        'mid': 'ZN-y-wAEAAEuLywXw7qde8_kcVxS',\n",
    "        'ig_did': '412D475D-2849-47D2-A5D6-BE2FD70188DA',\n",
    "        'ig_nrcb': '1',\n",
    "        'datr': '-bLfZEYyk6Ho0ZOTsE4o96F0',\n",
    "        'fbm_124024574287414': 'base_domain=.instagram.com',\n",
    "        'csrftoken': 'qJMz4xCbgy7uCmEEpoJAIUPrM5ISDvRD',\n",
    "        'ds_user_id': '291891587',\n",
    "        'ps_n': '0',\n",
    "        'ps_l': '0',\n",
    "        'shbid': '\"1180\\\\054291891587\\\\0541739216526:01f70bc0d58d01d2d131714b422fbc03fa5f4926823ec4ac812e8fbdaad5ab8b7a0c4911\"',\n",
    "        'shbts': '\"1707680526\\\\054291891587\\\\0541739216526:01f7fef606003315eb2fe4aa231cbeecd8c29e5ca9a5bbcca5b5f4381f9b184c89f8dd47\"',\n",
    "        'sessionid': '291891587%3AeMDes3hUj7HE5y%3A23%3AAYcWT1InKBq5W6w0V_OO_TtsJwPIa2OCe47UT0TXlek',\n",
    "        'fbsr_124024574287414': 'TROjHjpAr0vprRiVrsVRljvj1ceiqLHOJnuaps-k3K8.eyJ1c2VyX2lkIjoiMTAwMDAwMTQzODY2Nzg1IiwiY29kZSI6IkFRQ3NkMEc4R3RicV9hVzVFWERGVFVoNkJYRHR6LUVjVmNFdW9zcWdwTWtQWFQtTkFkRnRpVVhoTFIyU25UQmRXZ3RNRUV5di1tcGtod3FrUGJwZlV1WmFFRW9QeHNIWHdZam95VGJtS3dfc1BPY2s0bTA1b2J1dHMxbDZ5SFNQeE91UGlYTWlqcm5EendmVm1vb2xJYUkxcDhhTmdzdDdKWnJwenVuWkIwT3NHN1lETmVzVHdHaXdJX2t5cm1BbHBNSy1Yc1g3QzdhTUFNSmlKbXpMSUtELW1jLWpjRlJRYXpvNEdiNThSQWVBVDJfS1VOOGtTekMxTmd6bmlFanJUQ0w4Rl9nRVZkYlVrSGEtcU1hOUxKR2VpMXNGTVBPMkcydkYxZldFYllwSHN4T3dLUWwzVzNYa2xNOVhLWUlxMjAxS0I3VVpyZlRtN1oyMTBXbmRfY3lpIiwib2F1dGhfdG9rZW4iOiJFQUFCd3pMaXhuallCT1pDUmhnT21TM3Y1OVpDT0ttcEJTbDd3RlJuUGFXaTFDU0JsN015ZXJFUHBJTHRPS083bGZHeDFlV2FwT1pDYjg2aGZTZHFtM0ZjN2lYUU5aQlJlbjdYVVVFTnhudW9kMkZrRThmV3FYaldib1NTZUhaQ1BKWDNVeFpDY2tPZmRETWJTZG9kWkNrMlhJUVBjODRnaVlaQmJYb3R5YnMxaDlMOGY0RFFPRG1SM09vVkFFNzAycnJBdjFCdWJHbHhLbXVhVmVDbExoMEFaRCIsImFsZ29yaXRobSI6IkhNQUMtU0hBMjU2IiwiaXNzdWVkX2F0IjoxNzA3Njk0MzA5fQ',\n",
    "        'fbsr_124024574287414': 'TROjHjpAr0vprRiVrsVRljvj1ceiqLHOJnuaps-k3K8.eyJ1c2VyX2lkIjoiMTAwMDAwMTQzODY2Nzg1IiwiY29kZSI6IkFRQ3NkMEc4R3RicV9hVzVFWERGVFVoNkJYRHR6LUVjVmNFdW9zcWdwTWtQWFQtTkFkRnRpVVhoTFIyU25UQmRXZ3RNRUV5di1tcGtod3FrUGJwZlV1WmFFRW9QeHNIWHdZam95VGJtS3dfc1BPY2s0bTA1b2J1dHMxbDZ5SFNQeE91UGlYTWlqcm5EendmVm1vb2xJYUkxcDhhTmdzdDdKWnJwenVuWkIwT3NHN1lETmVzVHdHaXdJX2t5cm1BbHBNSy1Yc1g3QzdhTUFNSmlKbXpMSUtELW1jLWpjRlJRYXpvNEdiNThSQWVBVDJfS1VOOGtTekMxTmd6bmlFanJUQ0w4Rl9nRVZkYlVrSGEtcU1hOUxKR2VpMXNGTVBPMkcydkYxZldFYllwSHN4T3dLUWwzVzNYa2xNOVhLWUlxMjAxS0I3VVpyZlRtN1oyMTBXbmRfY3lpIiwib2F1dGhfdG9rZW4iOiJFQUFCd3pMaXhuallCT1pDUmhnT21TM3Y1OVpDT0ttcEJTbDd3RlJuUGFXaTFDU0JsN015ZXJFUHBJTHRPS083bGZHeDFlV2FwT1pDYjg2aGZTZHFtM0ZjN2lYUU5aQlJlbjdYVVVFTnhudW9kMkZrRThmV3FYaldib1NTZUhaQ1BKWDNVeFpDY2tPZmRETWJTZG9kWkNrMlhJUVBjODRnaVlaQmJYb3R5YnMxaDlMOGY0RFFPRG1SM09vVkFFNzAycnJBdjFCdWJHbHhLbXVhVmVDbExoMEFaRCIsImFsZ29yaXRobSI6IkhNQUMtU0hBMjU2IiwiaXNzdWVkX2F0IjoxNzA3Njk0MzA5fQ',\n",
    "        'rur': '\"NAO\\\\054291891587\\\\0541739230502:01f752b2aa199428ab0f3e7e229d570dcf341379e4dae08ea6807f4fd2c87a1b4bee2d7c\"',\n",
    "    }\n",
    "    \n",
    "    headers = {\n",
    "        'authority': 'www.instagram.com',\n",
    "        'accept': '*/*',\n",
    "        'accept-language': 'en-US,en;q=0.9,id-ID;q=0.8,id;q=0.7',\n",
    "        # 'cookie': 'mid=ZN-y-wAEAAEuLywXw7qde8_kcVxS; ig_did=412D475D-2849-47D2-A5D6-BE2FD70188DA; ig_nrcb=1; datr=-bLfZEYyk6Ho0ZOTsE4o96F0; fbm_124024574287414=base_domain=.instagram.com; csrftoken=qJMz4xCbgy7uCmEEpoJAIUPrM5ISDvRD; ds_user_id=291891587; ps_n=0; ps_l=0; shbid=\"1180\\\\054291891587\\\\0541739216526:01f70bc0d58d01d2d131714b422fbc03fa5f4926823ec4ac812e8fbdaad5ab8b7a0c4911\"; shbts=\"1707680526\\\\054291891587\\\\0541739216526:01f7fef606003315eb2fe4aa231cbeecd8c29e5ca9a5bbcca5b5f4381f9b184c89f8dd47\"; sessionid=291891587%3AeMDes3hUj7HE5y%3A23%3AAYcWT1InKBq5W6w0V_OO_TtsJwPIa2OCe47UT0TXlek; fbsr_124024574287414=TROjHjpAr0vprRiVrsVRljvj1ceiqLHOJnuaps-k3K8.eyJ1c2VyX2lkIjoiMTAwMDAwMTQzODY2Nzg1IiwiY29kZSI6IkFRQ3NkMEc4R3RicV9hVzVFWERGVFVoNkJYRHR6LUVjVmNFdW9zcWdwTWtQWFQtTkFkRnRpVVhoTFIyU25UQmRXZ3RNRUV5di1tcGtod3FrUGJwZlV1WmFFRW9QeHNIWHdZam95VGJtS3dfc1BPY2s0bTA1b2J1dHMxbDZ5SFNQeE91UGlYTWlqcm5EendmVm1vb2xJYUkxcDhhTmdzdDdKWnJwenVuWkIwT3NHN1lETmVzVHdHaXdJX2t5cm1BbHBNSy1Yc1g3QzdhTUFNSmlKbXpMSUtELW1jLWpjRlJRYXpvNEdiNThSQWVBVDJfS1VOOGtTekMxTmd6bmlFanJUQ0w4Rl9nRVZkYlVrSGEtcU1hOUxKR2VpMXNGTVBPMkcydkYxZldFYllwSHN4T3dLUWwzVzNYa2xNOVhLWUlxMjAxS0I3VVpyZlRtN1oyMTBXbmRfY3lpIiwib2F1dGhfdG9rZW4iOiJFQUFCd3pMaXhuallCT1pDUmhnT21TM3Y1OVpDT0ttcEJTbDd3RlJuUGFXaTFDU0JsN015ZXJFUHBJTHRPS083bGZHeDFlV2FwT1pDYjg2aGZTZHFtM0ZjN2lYUU5aQlJlbjdYVVVFTnhudW9kMkZrRThmV3FYaldib1NTZUhaQ1BKWDNVeFpDY2tPZmRETWJTZG9kWkNrMlhJUVBjODRnaVlaQmJYb3R5YnMxaDlMOGY0RFFPRG1SM09vVkFFNzAycnJBdjFCdWJHbHhLbXVhVmVDbExoMEFaRCIsImFsZ29yaXRobSI6IkhNQUMtU0hBMjU2IiwiaXNzdWVkX2F0IjoxNzA3Njk0MzA5fQ; fbsr_124024574287414=TROjHjpAr0vprRiVrsVRljvj1ceiqLHOJnuaps-k3K8.eyJ1c2VyX2lkIjoiMTAwMDAwMTQzODY2Nzg1IiwiY29kZSI6IkFRQ3NkMEc4R3RicV9hVzVFWERGVFVoNkJYRHR6LUVjVmNFdW9zcWdwTWtQWFQtTkFkRnRpVVhoTFIyU25UQmRXZ3RNRUV5di1tcGtod3FrUGJwZlV1WmFFRW9QeHNIWHdZam95VGJtS3dfc1BPY2s0bTA1b2J1dHMxbDZ5SFNQeE91UGlYTWlqcm5EendmVm1vb2xJYUkxcDhhTmdzdDdKWnJwenVuWkIwT3NHN1lETmVzVHdHaXdJX2t5cm1BbHBNSy1Yc1g3QzdhTUFNSmlKbXpMSUtELW1jLWpjRlJRYXpvNEdiNThSQWVBVDJfS1VOOGtTekMxTmd6bmlFanJUQ0w4Rl9nRVZkYlVrSGEtcU1hOUxKR2VpMXNGTVBPMkcydkYxZldFYllwSHN4T3dLUWwzVzNYa2xNOVhLWUlxMjAxS0I3VVpyZlRtN1oyMTBXbmRfY3lpIiwib2F1dGhfdG9rZW4iOiJFQUFCd3pMaXhuallCT1pDUmhnT21TM3Y1OVpDT0ttcEJTbDd3RlJuUGFXaTFDU0JsN015ZXJFUHBJTHRPS083bGZHeDFlV2FwT1pDYjg2aGZTZHFtM0ZjN2lYUU5aQlJlbjdYVVVFTnhudW9kMkZrRThmV3FYaldib1NTZUhaQ1BKWDNVeFpDY2tPZmRETWJTZG9kWkNrMlhJUVBjODRnaVlaQmJYb3R5YnMxaDlMOGY0RFFPRG1SM09vVkFFNzAycnJBdjFCdWJHbHhLbXVhVmVDbExoMEFaRCIsImFsZ29yaXRobSI6IkhNQUMtU0hBMjU2IiwiaXNzdWVkX2F0IjoxNzA3Njk0MzA5fQ; rur=\"NAO\\\\054291891587\\\\0541739230502:01f752b2aa199428ab0f3e7e229d570dcf341379e4dae08ea6807f4fd2c87a1b4bee2d7c\"',\n",
    "        'dpr': '2',\n",
    "        'referer': 'https://www.instagram.com/'+username+'/',\n",
    "        'sec-ch-prefers-color-scheme': 'dark',\n",
    "        'sec-ch-ua': '\"Not A(Brand\";v=\"99\", \"Google Chrome\";v=\"121\", \"Chromium\";v=\"121\"',\n",
    "        'sec-ch-ua-full-version-list': '\"Not A(Brand\";v=\"99.0.0.0\", \"Google Chrome\";v=\"121.0.6167.160\", \"Chromium\";v=\"121.0.6167.160\"',\n",
    "        'sec-ch-ua-mobile': '?0',\n",
    "        'sec-ch-ua-model': '\"\"',\n",
    "        'sec-ch-ua-platform': '\"macOS\"',\n",
    "        'sec-ch-ua-platform-version': '\"14.2.1\"',\n",
    "        'sec-fetch-dest': 'empty',\n",
    "        'sec-fetch-mode': 'cors',\n",
    "        'sec-fetch-site': 'same-origin',\n",
    "        'user-agent': 'Mozilla/5.0 (Macintosh; Intel Mac OS X 10_15_7) AppleWebKit/537.36 (KHTML, like Gecko) Chrome/121.0.0.0 Safari/537.36',\n",
    "        'viewport-width': '468',\n",
    "        'x-asbd-id': '129477',\n",
    "        'x-csrftoken': 'qJMz4xCbgy7uCmEEpoJAIUPrM5ISDvRD',\n",
    "        'x-ig-app-id': '936619743392459',\n",
    "        'x-ig-www-claim': 'hmac.AR16qyqCb745v0AZCQnWN9SBZNmTMCvD9VljkhqthkA8y5EB',\n",
    "        'x-requested-with': 'XMLHttpRequest',\n",
    "    }\n",
    "    \n",
    "    params = {\n",
    "        'username': username,\n",
    "    }\n",
    "\n",
    "    response = requests.get(\n",
    "        'https://www.instagram.com/api/v1/users/web_profile_info/',\n",
    "        params=params,\n",
    "        cookies=cookies,\n",
    "        headers=headers,\n",
    "    )\n",
    "    \n",
    "    return json.loads(response.text)['data']['user']\n",
    "    # return response\n",
    "    \n"
   ]
  },
  {
   "cell_type": "code",
   "execution_count": 190,
   "id": "a3b9df17-99f8-469b-bd5f-935ef378e8b2",
   "metadata": {
    "tags": []
   },
   "outputs": [],
   "source": [
    "test = finding_base_account_id('officialdonat_bahagia')\n",
    "# test"
   ]
  },
  {
   "cell_type": "code",
   "execution_count": 7,
   "id": "aa4c6375-6f0a-4d64-a6ed-fc9ca905642f",
   "metadata": {
    "tags": []
   },
   "outputs": [],
   "source": [
    "# id\n",
    "# username\n",
    "# full name\n",
    "# biography\n",
    "# category_name\n",
    "# followers edge_followed_by': {'count': 143907},\n",
    "# external url\n",
    "#'business_email': None,\n",
    "#'business_phone_number': None\n",
    "\n",
    "base_account_list = []\n",
    "\n",
    "base_account_col = ['id'\n",
    "                    , 'username'\n",
    "                    , 'full_name'\n",
    "                    , 'biography_desc'\n",
    "                    , 'category_name'\n",
    "                    , 'followers'\n",
    "                    , 'external_url'\n",
    "                    , 'business_email'\n",
    "                    , 'business_phone_number'        \n",
    "                   ]\n",
    "\n",
    "for user in df_base_account['username']:\n",
    "    temp = finding_base_account_id(user)\n",
    "    base_account_list.append(\n",
    "        [\n",
    "            temp['id']\n",
    "            , temp['username']\n",
    "            , temp['full_name']\n",
    "            , temp['biography_with_entities']['raw_text']\n",
    "            , temp['category_name']\n",
    "            , temp['edge_followed_by']['count']\n",
    "            , temp['external_url']\n",
    "            , temp['business_email']\n",
    "            , temp['business_phone_number']\n",
    "        \n",
    "        ])\n",
    "        \n",
    "    time.sleep(3)\n"
   ]
  },
  {
   "cell_type": "code",
   "execution_count": 8,
   "id": "da52ef5d-bfe4-44e3-8543-a76e5280edf8",
   "metadata": {
    "tags": []
   },
   "outputs": [
    {
     "data": {
      "text/html": [
       "<div>\n",
       "<style scoped>\n",
       "    .dataframe tbody tr th:only-of-type {\n",
       "        vertical-align: middle;\n",
       "    }\n",
       "\n",
       "    .dataframe tbody tr th {\n",
       "        vertical-align: top;\n",
       "    }\n",
       "\n",
       "    .dataframe thead th {\n",
       "        text-align: right;\n",
       "    }\n",
       "</style>\n",
       "<table border=\"1\" class=\"dataframe\">\n",
       "  <thead>\n",
       "    <tr style=\"text-align: right;\">\n",
       "      <th></th>\n",
       "      <th>id</th>\n",
       "      <th>username</th>\n",
       "      <th>full_name</th>\n",
       "      <th>biography_desc</th>\n",
       "      <th>category_name</th>\n",
       "      <th>followers</th>\n",
       "      <th>external_url</th>\n",
       "      <th>business_email</th>\n",
       "      <th>business_phone_number</th>\n",
       "    </tr>\n",
       "  </thead>\n",
       "  <tbody>\n",
       "    <tr>\n",
       "      <th>0</th>\n",
       "      <td>7316146754</td>\n",
       "      <td>officialdonat_bahagia</td>\n",
       "      <td>DONAT BAHAGIA</td>\n",
       "      <td>DONAT BIKIN BAHAGIA | 70 VARIANT RASA | BEBAS ...</td>\n",
       "      <td>Food &amp; beverage</td>\n",
       "      <td>144429</td>\n",
       "      <td>http://www.donatbahagia.id/</td>\n",
       "      <td>None</td>\n",
       "      <td>None</td>\n",
       "    </tr>\n",
       "    <tr>\n",
       "      <th>1</th>\n",
       "      <td>36403582263</td>\n",
       "      <td>sagara.homemade</td>\n",
       "      <td>Donat 🍩 Choco Cheese Strip🍫🧀</td>\n",
       "      <td>❌Temporarily Closed❌\\nExclusively made for pre...</td>\n",
       "      <td>Food &amp; beverage</td>\n",
       "      <td>27</td>\n",
       "      <td>https://api.whatsapp.com/send?phone=6287889030011</td>\n",
       "      <td>None</td>\n",
       "      <td>None</td>\n",
       "    </tr>\n",
       "    <tr>\n",
       "      <th>2</th>\n",
       "      <td>49054349451</td>\n",
       "      <td>dobul.donut</td>\n",
       "      <td>Donat Gembul</td>\n",
       "      <td>Donat lezat 🍩 dari PT. Trinojaya Alenson 🏘\\nPr...</td>\n",
       "      <td>Food &amp; beverage</td>\n",
       "      <td>163</td>\n",
       "      <td>None</td>\n",
       "      <td>None</td>\n",
       "      <td>None</td>\n",
       "    </tr>\n",
       "    <tr>\n",
       "      <th>3</th>\n",
       "      <td>5877763021</td>\n",
       "      <td>sera.treats</td>\n",
       "      <td>Donat | Brownies | Cake</td>\n",
       "      <td>📍 Rancaekek, Kab Bandung\\n• Tidak Ready Stock\\...</td>\n",
       "      <td>Food &amp; beverage</td>\n",
       "      <td>448</td>\n",
       "      <td>https://wa.me/message/6GVZWFEFIIIHB1</td>\n",
       "      <td>None</td>\n",
       "      <td>None</td>\n",
       "    </tr>\n",
       "    <tr>\n",
       "      <th>4</th>\n",
       "      <td>53459835779</td>\n",
       "      <td>donusaurus</td>\n",
       "      <td>Donat Kentang Pontianak</td>\n",
       "      <td>Donat Kentang Premium\\n🏡 Pontianak (Serdam, Ko...</td>\n",
       "      <td>None</td>\n",
       "      <td>748</td>\n",
       "      <td>https://shopee.co.id/universal-link/now-food/s...</td>\n",
       "      <td>None</td>\n",
       "      <td>None</td>\n",
       "    </tr>\n",
       "  </tbody>\n",
       "</table>\n",
       "</div>"
      ],
      "text/plain": [
       "            id               username                     full_name  \\\n",
       "0   7316146754  officialdonat_bahagia                 DONAT BAHAGIA   \n",
       "1  36403582263        sagara.homemade  Donat 🍩 Choco Cheese Strip🍫🧀   \n",
       "2  49054349451            dobul.donut                  Donat Gembul   \n",
       "3   5877763021            sera.treats       Donat | Brownies | Cake   \n",
       "4  53459835779             donusaurus       Donat Kentang Pontianak   \n",
       "\n",
       "                                      biography_desc    category_name  \\\n",
       "0  DONAT BIKIN BAHAGIA | 70 VARIANT RASA | BEBAS ...  Food & beverage   \n",
       "1  ❌Temporarily Closed❌\\nExclusively made for pre...  Food & beverage   \n",
       "2  Donat lezat 🍩 dari PT. Trinojaya Alenson 🏘\\nPr...  Food & beverage   \n",
       "3  📍 Rancaekek, Kab Bandung\\n• Tidak Ready Stock\\...  Food & beverage   \n",
       "4  Donat Kentang Premium\\n🏡 Pontianak (Serdam, Ko...             None   \n",
       "\n",
       "   followers                                       external_url  \\\n",
       "0     144429                        http://www.donatbahagia.id/   \n",
       "1         27  https://api.whatsapp.com/send?phone=6287889030011   \n",
       "2        163                                               None   \n",
       "3        448               https://wa.me/message/6GVZWFEFIIIHB1   \n",
       "4        748  https://shopee.co.id/universal-link/now-food/s...   \n",
       "\n",
       "  business_email business_phone_number  \n",
       "0           None                  None  \n",
       "1           None                  None  \n",
       "2           None                  None  \n",
       "3           None                  None  \n",
       "4           None                  None  "
      ]
     },
     "execution_count": 8,
     "metadata": {},
     "output_type": "execute_result"
    }
   ],
   "source": [
    "df_base_account_list = pd.DataFrame(base_account_list, columns = base_account_col)\n",
    "df_base_account_list.head()"
   ]
  },
  {
   "cell_type": "markdown",
   "id": "927ad03a-a5b2-4ff3-902a-c635761cea7b",
   "metadata": {},
   "source": [
    "# Fetching Suggested Account"
   ]
  },
  {
   "cell_type": "code",
   "execution_count": 31,
   "id": "4395fd15-767a-4523-84a7-a4b36008484c",
   "metadata": {
    "tags": []
   },
   "outputs": [],
   "source": [
    "def fecthing_suggested_account(userid):\n",
    "    import requests\n",
    "\n",
    "    cookies = {\n",
    "        'mid': 'ZN-y-wAEAAEuLywXw7qde8_kcVxS',\n",
    "        'ig_did': '412D475D-2849-47D2-A5D6-BE2FD70188DA',\n",
    "        'ig_nrcb': '1',\n",
    "        'datr': '-bLfZEYyk6Ho0ZOTsE4o96F0',\n",
    "        'fbm_124024574287414': 'base_domain=.instagram.com',\n",
    "        'csrftoken': 'qJMz4xCbgy7uCmEEpoJAIUPrM5ISDvRD',\n",
    "        'ds_user_id': '291891587',\n",
    "        'ps_n': '0',\n",
    "        'ps_l': '0',\n",
    "        'shbid': '\"1180\\\\054291891587\\\\0541738910838:01f7d808856c1cf83377476a4f3f6e6835ab8caf37e23b177095811e86c4ca479bc37c69\"',\n",
    "        'shbts': '\"1707374838\\\\054291891587\\\\0541738910838:01f7a28bf625e55d5e81e2f2eb8d34365872103e576322e1fa34a7c587ede96435db50e2\"',\n",
    "        'fbsr_124024574287414': 'oRfRRJ9lyr_LXo7AfAdG8cL4GAfuMaRdwDdH9mKSGYA.eyJ1c2VyX2lkIjoiMTAwMDAwMTQzODY2Nzg1IiwiY29kZSI6IkFRQmRRVFFydWhqRk1TTGF0bTVidl9fNjdJaElkQ0piMHBaLUNXMTlCOWl5Nm1wYmQ0blRCQ1VYVVluMnFNZHg4SUdBdXNwYnVTQlNtQzdwY3N3czRTdTFxSGlhRk9uY0ZsRHVzWmM2NURtUkRuUlFQUERpTUZ4bEdjZGU1RmlYTmM2WWF6UUwxUHZvNDFqam0xVVpWYnQ5Xy1IQ2VoREVaOFRORnlOWjFWVnZURThCa3A4eGZDLVlGMzRYMlJTZXBGbTRhTlY0NkJpYUFSV0MzVXM0SEZtX2hfUGt2VWpOd2RMVVBrTE5FTDZtc1JYZnhaU1NDcENIUlJBYTI3WU1UTzNHdlctbE9vUzhfTzJ5eGxVTWdGMm1RZzFKTDBZT2NYa0U5LU50d1RGZllkbzNVaE0tbktMd2FlSUw3X2xNaVFZcU5jbVBWTndWNFlnVDljVjI0ejM4bERsb0NQWmI2Mzc5bV9ySlo0TmNLQSIsIm9hdXRoX3Rva2VuIjoiRUFBQnd6TGl4bmpZQk83VmVmQWZXQ0RDTUN1QUFaQjlMU0hjVU1WaEJpbG02a2FQMGNYcTg4U0NJbDBNVlNjOTJwUnA2NHR3dnR0WkNnZks0TWVBNFpCWU5pQUY0T29IaklhYk16MFVNc0EwOVdPSzZhY0RrWFlIZUxqMkpvek5pMnJHN1d2a0VRdHZaQW90SlpCaTdtQldGdm5vR2JoUFIwemZrZURmbzMxRmxWakt4UFAyMXl3eHVuU2JGVTVjWHZaQkRjRU4zbmtMRkxsRFFORFpDam9aRCIsImFsZ29yaXRobSI6IkhNQUMtU0hBMjU2IiwiaXNzdWVkX2F0IjoxNzA3NDY3OTU2fQ',\n",
    "        'sessionid': '291891587%3AeMDes3hUj7HE5y%3A23%3AAYcJPTvarJL-VsWU53G1kDJjuFARdBiu7ECcCVQnEWI',\n",
    "        'fbsr_124024574287414': 'oRfRRJ9lyr_LXo7AfAdG8cL4GAfuMaRdwDdH9mKSGYA.eyJ1c2VyX2lkIjoiMTAwMDAwMTQzODY2Nzg1IiwiY29kZSI6IkFRQmRRVFFydWhqRk1TTGF0bTVidl9fNjdJaElkQ0piMHBaLUNXMTlCOWl5Nm1wYmQ0blRCQ1VYVVluMnFNZHg4SUdBdXNwYnVTQlNtQzdwY3N3czRTdTFxSGlhRk9uY0ZsRHVzWmM2NURtUkRuUlFQUERpTUZ4bEdjZGU1RmlYTmM2WWF6UUwxUHZvNDFqam0xVVpWYnQ5Xy1IQ2VoREVaOFRORnlOWjFWVnZURThCa3A4eGZDLVlGMzRYMlJTZXBGbTRhTlY0NkJpYUFSV0MzVXM0SEZtX2hfUGt2VWpOd2RMVVBrTE5FTDZtc1JYZnhaU1NDcENIUlJBYTI3WU1UTzNHdlctbE9vUzhfTzJ5eGxVTWdGMm1RZzFKTDBZT2NYa0U5LU50d1RGZllkbzNVaE0tbktMd2FlSUw3X2xNaVFZcU5jbVBWTndWNFlnVDljVjI0ejM4bERsb0NQWmI2Mzc5bV9ySlo0TmNLQSIsIm9hdXRoX3Rva2VuIjoiRUFBQnd6TGl4bmpZQk83VmVmQWZXQ0RDTUN1QUFaQjlMU0hjVU1WaEJpbG02a2FQMGNYcTg4U0NJbDBNVlNjOTJwUnA2NHR3dnR0WkNnZks0TWVBNFpCWU5pQUY0T29IaklhYk16MFVNc0EwOVdPSzZhY0RrWFlIZUxqMkpvek5pMnJHN1d2a0VRdHZaQW90SlpCaTdtQldGdm5vR2JoUFIwemZrZURmbzMxRmxWakt4UFAyMXl3eHVuU2JGVTVjWHZaQkRjRU4zbmtMRkxsRFFORFpDam9aRCIsImFsZ29yaXRobSI6IkhNQUMtU0hBMjU2IiwiaXNzdWVkX2F0IjoxNzA3NDY3OTU2fQ',\n",
    "        'rur': '\"NAO\\\\054291891587\\\\0541739004299:01f7cd872d5ef1835202cb455a80c3dca24e8fd7822f15d3b49096951a086b02c95f81ef\"',\n",
    "    }\n",
    "\n",
    "    headers = {\n",
    "        'authority': 'www.instagram.com',\n",
    "        'accept': '*/*',\n",
    "        'accept-language': 'en-US,en;q=0.9,id-ID;q=0.8,id;q=0.7',\n",
    "        # 'cookie': 'mid=ZN-y-wAEAAEuLywXw7qde8_kcVxS; ig_did=412D475D-2849-47D2-A5D6-BE2FD70188DA; ig_nrcb=1; datr=-bLfZEYyk6Ho0ZOTsE4o96F0; fbm_124024574287414=base_domain=.instagram.com; csrftoken=qJMz4xCbgy7uCmEEpoJAIUPrM5ISDvRD; ds_user_id=291891587; ps_n=0; ps_l=0; shbid=\"1180\\\\054291891587\\\\0541738910838:01f7d808856c1cf83377476a4f3f6e6835ab8caf37e23b177095811e86c4ca479bc37c69\"; shbts=\"1707374838\\\\054291891587\\\\0541738910838:01f7a28bf625e55d5e81e2f2eb8d34365872103e576322e1fa34a7c587ede96435db50e2\"; fbsr_124024574287414=oRfRRJ9lyr_LXo7AfAdG8cL4GAfuMaRdwDdH9mKSGYA.eyJ1c2VyX2lkIjoiMTAwMDAwMTQzODY2Nzg1IiwiY29kZSI6IkFRQmRRVFFydWhqRk1TTGF0bTVidl9fNjdJaElkQ0piMHBaLUNXMTlCOWl5Nm1wYmQ0blRCQ1VYVVluMnFNZHg4SUdBdXNwYnVTQlNtQzdwY3N3czRTdTFxSGlhRk9uY0ZsRHVzWmM2NURtUkRuUlFQUERpTUZ4bEdjZGU1RmlYTmM2WWF6UUwxUHZvNDFqam0xVVpWYnQ5Xy1IQ2VoREVaOFRORnlOWjFWVnZURThCa3A4eGZDLVlGMzRYMlJTZXBGbTRhTlY0NkJpYUFSV0MzVXM0SEZtX2hfUGt2VWpOd2RMVVBrTE5FTDZtc1JYZnhaU1NDcENIUlJBYTI3WU1UTzNHdlctbE9vUzhfTzJ5eGxVTWdGMm1RZzFKTDBZT2NYa0U5LU50d1RGZllkbzNVaE0tbktMd2FlSUw3X2xNaVFZcU5jbVBWTndWNFlnVDljVjI0ejM4bERsb0NQWmI2Mzc5bV9ySlo0TmNLQSIsIm9hdXRoX3Rva2VuIjoiRUFBQnd6TGl4bmpZQk83VmVmQWZXQ0RDTUN1QUFaQjlMU0hjVU1WaEJpbG02a2FQMGNYcTg4U0NJbDBNVlNjOTJwUnA2NHR3dnR0WkNnZks0TWVBNFpCWU5pQUY0T29IaklhYk16MFVNc0EwOVdPSzZhY0RrWFlIZUxqMkpvek5pMnJHN1d2a0VRdHZaQW90SlpCaTdtQldGdm5vR2JoUFIwemZrZURmbzMxRmxWakt4UFAyMXl3eHVuU2JGVTVjWHZaQkRjRU4zbmtMRkxsRFFORFpDam9aRCIsImFsZ29yaXRobSI6IkhNQUMtU0hBMjU2IiwiaXNzdWVkX2F0IjoxNzA3NDY3OTU2fQ; sessionid=291891587%3AeMDes3hUj7HE5y%3A23%3AAYcJPTvarJL-VsWU53G1kDJjuFARdBiu7ECcCVQnEWI; fbsr_124024574287414=oRfRRJ9lyr_LXo7AfAdG8cL4GAfuMaRdwDdH9mKSGYA.eyJ1c2VyX2lkIjoiMTAwMDAwMTQzODY2Nzg1IiwiY29kZSI6IkFRQmRRVFFydWhqRk1TTGF0bTVidl9fNjdJaElkQ0piMHBaLUNXMTlCOWl5Nm1wYmQ0blRCQ1VYVVluMnFNZHg4SUdBdXNwYnVTQlNtQzdwY3N3czRTdTFxSGlhRk9uY0ZsRHVzWmM2NURtUkRuUlFQUERpTUZ4bEdjZGU1RmlYTmM2WWF6UUwxUHZvNDFqam0xVVpWYnQ5Xy1IQ2VoREVaOFRORnlOWjFWVnZURThCa3A4eGZDLVlGMzRYMlJTZXBGbTRhTlY0NkJpYUFSV0MzVXM0SEZtX2hfUGt2VWpOd2RMVVBrTE5FTDZtc1JYZnhaU1NDcENIUlJBYTI3WU1UTzNHdlctbE9vUzhfTzJ5eGxVTWdGMm1RZzFKTDBZT2NYa0U5LU50d1RGZllkbzNVaE0tbktMd2FlSUw3X2xNaVFZcU5jbVBWTndWNFlnVDljVjI0ejM4bERsb0NQWmI2Mzc5bV9ySlo0TmNLQSIsIm9hdXRoX3Rva2VuIjoiRUFBQnd6TGl4bmpZQk83VmVmQWZXQ0RDTUN1QUFaQjlMU0hjVU1WaEJpbG02a2FQMGNYcTg4U0NJbDBNVlNjOTJwUnA2NHR3dnR0WkNnZks0TWVBNFpCWU5pQUY0T29IaklhYk16MFVNc0EwOVdPSzZhY0RrWFlIZUxqMkpvek5pMnJHN1d2a0VRdHZaQW90SlpCaTdtQldGdm5vR2JoUFIwemZrZURmbzMxRmxWakt4UFAyMXl3eHVuU2JGVTVjWHZaQkRjRU4zbmtMRkxsRFFORFpDam9aRCIsImFsZ29yaXRobSI6IkhNQUMtU0hBMjU2IiwiaXNzdWVkX2F0IjoxNzA3NDY3OTU2fQ; rur=\"NAO\\\\054291891587\\\\0541739004299:01f7cd872d5ef1835202cb455a80c3dca24e8fd7822f15d3b49096951a086b02c95f81ef\"',\n",
    "        'dpr': '2',\n",
    "        'referer': 'https://www.instagram.com/officialdonat_bahagia/',\n",
    "        'sec-ch-prefers-color-scheme': 'dark',\n",
    "        'sec-ch-ua': '\"Not A(Brand\";v=\"99\", \"Google Chrome\";v=\"121\", \"Chromium\";v=\"121\"',\n",
    "        'sec-ch-ua-full-version-list': '\"Not A(Brand\";v=\"99.0.0.0\", \"Google Chrome\";v=\"121.0.6167.139\", \"Chromium\";v=\"121.0.6167.139\"',\n",
    "        'sec-ch-ua-mobile': '?0',\n",
    "        'sec-ch-ua-model': '\"\"',\n",
    "        'sec-ch-ua-platform': '\"macOS\"',\n",
    "        'sec-ch-ua-platform-version': '\"14.2.1\"',\n",
    "        'sec-fetch-dest': 'empty',\n",
    "        'sec-fetch-mode': 'cors',\n",
    "        'sec-fetch-site': 'same-origin',\n",
    "        'user-agent': 'Mozilla/5.0 (Macintosh; Intel Mac OS X 10_15_7) AppleWebKit/537.36 (KHTML, like Gecko) Chrome/121.0.0.0 Safari/537.36',\n",
    "        'viewport-width': '744',\n",
    "        'x-asbd-id': '129477',\n",
    "        'x-csrftoken': 'qJMz4xCbgy7uCmEEpoJAIUPrM5ISDvRD',\n",
    "        'x-ig-app-id': '936619743392459',\n",
    "        'x-ig-www-claim': 'hmac.AR16qyqCb745v0AZCQnWN9SBZNmTMCvD9VljkhqthkA8y35E',\n",
    "        'x-requested-with': 'XMLHttpRequest',\n",
    "    }\n",
    "\n",
    "    params = {\n",
    "        'query_id': '9957820854288654',\n",
    "        'user_id': str(userid),\n",
    "        'include_chaining': 'false',\n",
    "        'include_reel': 'true',\n",
    "        'include_suggested_users': 'false',\n",
    "        'include_logged_out_extras': 'false',\n",
    "        'include_live_status': 'false',\n",
    "        'include_highlight_reels': 'true',\n",
    "    }\n",
    "\n",
    "    response = requests.get('https://www.instagram.com/graphql/query/', params=params, cookies=cookies, headers=headers)\n",
    "    \n",
    "    # return json.loads(response.text)['data']['user']['edge_chaining']['edges'][0]['node']['username']\n",
    "\n",
    "    return json.loads(response.text)['data']['user']['edge_chaining']['edges']\n",
    "    "
   ]
  },
  {
   "cell_type": "code",
   "execution_count": 35,
   "id": "213de6e9-cdce-4b05-8f14-47920e13ced9",
   "metadata": {
    "tags": []
   },
   "outputs": [
    {
     "data": {
      "text/plain": [
       "['donatpops',\n",
       " 'merindudonat',\n",
       " 'bolubakartunggal_',\n",
       " 'rotimacan',\n",
       " 'rotidingin.id',\n",
       " 'gamchi.id',\n",
       " 'donatsu.official',\n",
       " 'dpakarbandung',\n",
       " 'dough_deli',\n",
       " 'theparlorhills']"
      ]
     },
     "execution_count": 35,
     "metadata": {},
     "output_type": "execute_result"
    }
   ],
   "source": [
    "suggested_username_list = []\n",
    "\n",
    "for user in df_base_account_list['id']:\n",
    "    temp = fecthing_suggested_account(user)\n",
    "    \n",
    "    for i in range(len(temp)):\n",
    "        suggested_username_list.append(temp[i]['node']['username'])\n",
    "\n",
    "suggested_username_list[:10]"
   ]
  },
  {
   "cell_type": "markdown",
   "id": "1bad1db4-dc06-4ee4-b084-f978fdcd6082",
   "metadata": {},
   "source": [
    "# Getting All Details from Suggested Accounts"
   ]
  },
  {
   "cell_type": "code",
   "execution_count": 107,
   "id": "9202f1f6-0544-4590-9932-2800e5859d10",
   "metadata": {
    "tags": []
   },
   "outputs": [
    {
     "data": {
      "text/plain": [
       "<Response [400]>"
      ]
     },
     "execution_count": 107,
     "metadata": {},
     "output_type": "execute_result"
    }
   ],
   "source": [
    "finding_base_account_id(suggested_username_list[0])"
   ]
  },
  {
   "cell_type": "code",
   "execution_count": 193,
   "id": "cce9e866-cf4c-47c8-98cf-7b4991597139",
   "metadata": {
    "tags": []
   },
   "outputs": [
    {
     "name": "stderr",
     "output_type": "stream",
     "text": [
      "Processing items: 100%|███████████████████████| 405/405 [27:52<00:00,  4.13s/it]\n"
     ]
    }
   ],
   "source": [
    "suggested_account_list = []\n",
    "\n",
    "suggested_account_col = ['id'\n",
    "                    , 'username'\n",
    "                    , 'full_name'\n",
    "                    , 'biography_desc'\n",
    "                    , 'category_name'\n",
    "                    , 'followers'\n",
    "                    , 'external_url'\n",
    "                    , 'business_email'\n",
    "                    , 'business_phone_number'        \n",
    "                   ]\n",
    "\n",
    "# for user in suggested_username_list:\n",
    "for i in tqdm(range(len(suggested_username_list)), desc=\"Processing items\"):\n",
    "    try:\n",
    "        temp = finding_base_account_id(suggested_username_list[i])\n",
    "        \n",
    "        suggested_account_list.append(\n",
    "            [\n",
    "                temp['id']\n",
    "                , temp['username']\n",
    "                , temp['full_name']\n",
    "                , temp['biography_with_entities']['raw_text']\n",
    "                , temp['category_name']\n",
    "                , temp['edge_followed_by']['count']\n",
    "                , temp['external_url']\n",
    "                , temp['business_email']\n",
    "                , temp['business_phone_number']\n",
    "\n",
    "            ])\n",
    "        \n",
    "        if len(suggested_account_list)%50 == 0:\n",
    "            time.sleep(30)\n",
    "        else:\n",
    "            time.sleep(5)\n",
    "        \n",
    "    except:\n",
    "        continue\n"
   ]
  },
  {
   "cell_type": "code",
   "execution_count": 194,
   "id": "4809a122-8c31-4cf0-bfb2-e7927503ce5a",
   "metadata": {
    "tags": []
   },
   "outputs": [
    {
     "data": {
      "text/html": [
       "<div>\n",
       "<style scoped>\n",
       "    .dataframe tbody tr th:only-of-type {\n",
       "        vertical-align: middle;\n",
       "    }\n",
       "\n",
       "    .dataframe tbody tr th {\n",
       "        vertical-align: top;\n",
       "    }\n",
       "\n",
       "    .dataframe thead th {\n",
       "        text-align: right;\n",
       "    }\n",
       "</style>\n",
       "<table border=\"1\" class=\"dataframe\">\n",
       "  <thead>\n",
       "    <tr style=\"text-align: right;\">\n",
       "      <th></th>\n",
       "      <th>id</th>\n",
       "      <th>username</th>\n",
       "      <th>full_name</th>\n",
       "      <th>biography_desc</th>\n",
       "      <th>category_name</th>\n",
       "      <th>followers</th>\n",
       "      <th>external_url</th>\n",
       "      <th>business_email</th>\n",
       "      <th>business_phone_number</th>\n",
       "    </tr>\n",
       "  </thead>\n",
       "  <tbody>\n",
       "    <tr>\n",
       "      <th>0</th>\n",
       "      <td>9437313537</td>\n",
       "      <td>donatpops</td>\n",
       "      <td>DONAT AYAM SUWIR PERTAMA DI BANDUNG</td>\n",
       "      <td>DONAT KAMPUNG BERKELAS\\n❗JAM OPERASIONAL:\\n   ...</td>\n",
       "      <td>Food &amp; beverage</td>\n",
       "      <td>29560</td>\n",
       "      <td>https://linktr.ee/donatpops</td>\n",
       "      <td>None</td>\n",
       "      <td>None</td>\n",
       "    </tr>\n",
       "    <tr>\n",
       "      <th>1</th>\n",
       "      <td>49837429613</td>\n",
       "      <td>merindudonat</td>\n",
       "      <td>DONAT PREMIUM SURABAYA &amp; MALANG</td>\n",
       "      <td>#MerinduBarengYuk ❤\\nHALAL CERTIFIED 💯\\nBUKA T...</td>\n",
       "      <td>Food &amp; beverage</td>\n",
       "      <td>17228</td>\n",
       "      <td>http://linktr.ee/merindudonat</td>\n",
       "      <td>None</td>\n",
       "      <td>None</td>\n",
       "    </tr>\n",
       "    <tr>\n",
       "      <th>2</th>\n",
       "      <td>3598651368</td>\n",
       "      <td>bolubakartunggal_</td>\n",
       "      <td>Pelopor Bolu Bakar</td>\n",
       "      <td>Order Online / Go-Food/Grab Food ⤵️</td>\n",
       "      <td>Food &amp; beverage</td>\n",
       "      <td>33351</td>\n",
       "      <td>https://desty.page/bolubakartunggal_</td>\n",
       "      <td>None</td>\n",
       "      <td>None</td>\n",
       "    </tr>\n",
       "    <tr>\n",
       "      <th>3</th>\n",
       "      <td>5681542569</td>\n",
       "      <td>rotimacan</td>\n",
       "      <td>Roti Macan Artisan</td>\n",
       "      <td>Handcrafted since 2019, Halal.\\n🥖🍞 Pre order o...</td>\n",
       "      <td>Bakery</td>\n",
       "      <td>40347</td>\n",
       "      <td>http://www.tokopedia.com/macanbdg</td>\n",
       "      <td>None</td>\n",
       "      <td>None</td>\n",
       "    </tr>\n",
       "    <tr>\n",
       "      <th>4</th>\n",
       "      <td>3040091049</td>\n",
       "      <td>rotidingin.id</td>\n",
       "      <td>Roti Dingin Bandung</td>\n",
       "      <td>Rotinya Dingin, Isinya Krim Anti Leleh\\nby @St...</td>\n",
       "      <td>Food &amp; beverage</td>\n",
       "      <td>4300</td>\n",
       "      <td>http://linktree.com/rotidingin.id</td>\n",
       "      <td>None</td>\n",
       "      <td>None</td>\n",
       "    </tr>\n",
       "  </tbody>\n",
       "</table>\n",
       "</div>"
      ],
      "text/plain": [
       "            id           username                            full_name  \\\n",
       "0   9437313537          donatpops  DONAT AYAM SUWIR PERTAMA DI BANDUNG   \n",
       "1  49837429613       merindudonat      DONAT PREMIUM SURABAYA & MALANG   \n",
       "2   3598651368  bolubakartunggal_                   Pelopor Bolu Bakar   \n",
       "3   5681542569          rotimacan                   Roti Macan Artisan   \n",
       "4   3040091049      rotidingin.id                  Roti Dingin Bandung   \n",
       "\n",
       "                                      biography_desc    category_name  \\\n",
       "0  DONAT KAMPUNG BERKELAS\\n❗JAM OPERASIONAL:\\n   ...  Food & beverage   \n",
       "1  #MerinduBarengYuk ❤\\nHALAL CERTIFIED 💯\\nBUKA T...  Food & beverage   \n",
       "2                Order Online / Go-Food/Grab Food ⤵️  Food & beverage   \n",
       "3  Handcrafted since 2019, Halal.\\n🥖🍞 Pre order o...           Bakery   \n",
       "4  Rotinya Dingin, Isinya Krim Anti Leleh\\nby @St...  Food & beverage   \n",
       "\n",
       "   followers                          external_url business_email  \\\n",
       "0      29560           https://linktr.ee/donatpops           None   \n",
       "1      17228         http://linktr.ee/merindudonat           None   \n",
       "2      33351  https://desty.page/bolubakartunggal_           None   \n",
       "3      40347     http://www.tokopedia.com/macanbdg           None   \n",
       "4       4300     http://linktree.com/rotidingin.id           None   \n",
       "\n",
       "  business_phone_number  \n",
       "0                  None  \n",
       "1                  None  \n",
       "2                  None  \n",
       "3                  None  \n",
       "4                  None  "
      ]
     },
     "execution_count": 194,
     "metadata": {},
     "output_type": "execute_result"
    }
   ],
   "source": [
    "df_suggested_account_list = pd.DataFrame(suggested_account_list, columns = suggested_account_col)\n",
    "df_suggested_account_list.head()"
   ]
  },
  {
   "cell_type": "code",
   "execution_count": 195,
   "id": "0b06376e-c0f6-4bc9-bcbe-a01db7bc6a5b",
   "metadata": {
    "tags": []
   },
   "outputs": [
    {
     "name": "stdout",
     "output_type": "stream",
     "text": [
      "<class 'pandas.core.frame.DataFrame'>\n",
      "RangeIndex: 107 entries, 0 to 106\n",
      "Data columns (total 9 columns):\n",
      " #   Column                 Non-Null Count  Dtype \n",
      "---  ------                 --------------  ----- \n",
      " 0   id                     107 non-null    object\n",
      " 1   username               107 non-null    object\n",
      " 2   full_name              107 non-null    object\n",
      " 3   biography_desc         107 non-null    object\n",
      " 4   category_name          105 non-null    object\n",
      " 5   followers              107 non-null    int64 \n",
      " 6   external_url           67 non-null     object\n",
      " 7   business_email         0 non-null      object\n",
      " 8   business_phone_number  0 non-null      object\n",
      "dtypes: int64(1), object(8)\n",
      "memory usage: 7.7+ KB\n"
     ]
    }
   ],
   "source": [
    "df_suggested_account_list.info()"
   ]
  }
 ],
 "metadata": {
  "kernelspec": {
   "display_name": "Python 3 (ipykernel)",
   "language": "python",
   "name": "python3"
  },
  "language_info": {
   "codemirror_mode": {
    "name": "ipython",
    "version": 3
   },
   "file_extension": ".py",
   "mimetype": "text/x-python",
   "name": "python",
   "nbconvert_exporter": "python",
   "pygments_lexer": "ipython3",
   "version": "3.11.4"
  }
 },
 "nbformat": 4,
 "nbformat_minor": 5
}
